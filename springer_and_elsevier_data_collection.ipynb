{
 "cells": [
  {
   "cell_type": "code",
   "execution_count": null,
   "id": "a57f5bd5",
   "metadata": {},
   "outputs": [],
   "source": [
    "#Importing Required Libraries\n",
    "import requests\n",
    "from dotenv import load_dotenv\n",
    "import os\n",
    "import pandas as pd\n",
    "import json\n",
    "import collections\n",
    "import matplotlib.pyplot as plt\n",
    "import nltk\n",
    "from nltk.corpus import stopwords\n",
    "import string\n",
    "import re\n",
    "import collections\n",
    "import matplotlib.pyplot as plt\n",
    "import nltk\n",
    "from nltk.corpus import stopwords\n",
    "import string\n",
    "import re\n",
    "import math\n",
    "import time\n",
    "import random\n",
    "from lxml import etree"
   ]
  },
  {
   "cell_type": "code",
   "execution_count": null,
   "id": "1636fc18",
   "metadata": {},
   "outputs": [],
   "source": [
    "#Loading Environment Variables\n",
    "load_dotenv()"
   ]
  },
  {
   "cell_type": "code",
   "execution_count": null,
   "id": "da1cb35e",
   "metadata": {},
   "outputs": [],
   "source": [
    "#Loading Required API Keys\n",
    "springer_key = os.getenv('springer_api_key')\n",
    "elsevier_key = os.getenv('elsevier_api_key')"
   ]
  },
  {
   "cell_type": "code",
   "execution_count": null,
   "id": "66f00f4a",
   "metadata": {},
   "outputs": [],
   "source": [
    "#Retrieving First Metadata Result from Springer API\n",
    "n = 1\n",
    "payload = {'q':'posthuman sort:date openaccess:true', 'p':'100' ,'api_key': springer_key, 's': n}\n",
    "r = requests.get('http://api.springernature.com/meta/v2/json', params=payload)"
   ]
  },
  {
   "cell_type": "code",
   "execution_count": null,
   "id": "8c3b8edd",
   "metadata": {},
   "outputs": [],
   "source": [
    "#Processing Response into Data Frame\n",
    "data_dict = r.json()\n",
    "df = pd.DataFrame(data_dict[\"records\"])"
   ]
  },
  {
   "cell_type": "code",
   "execution_count": null,
   "id": "ebd0df3d",
   "metadata": {},
   "outputs": [],
   "source": [
    "#Retrieving All Metadata Results from Springer API\n",
    "total_num = int(data_dict[\"result\"][0][\"total\"])\n",
    "for i in range(math.ceil((total_num-100)/100)):\n",
    "    n+=100\n",
    "    payload = {'q':'posthuman sort:date openaccess:true', 'p':'100' ,'api_key': springer_key, 's': n}\n",
    "    r = requests.get('http://api.springernature.com/meta/v2/json', params=payload)\n",
    "    data_dict = r.json()\n",
    "    df = pd.concat([df, pd.DataFrame(data_dict[\"records\"])], axis=0, ignore_index=True)"
   ]
  },
  {
   "cell_type": "code",
   "execution_count": null,
   "id": "cac7d5cf",
   "metadata": {},
   "outputs": [],
   "source": [
    "#Retrieving Text Results from Springer API\n",
    "text_list = []\n",
    "for i in range(len(df)):\n",
    "    doi = df.loc[i, 'doi']\n",
    "    doi_q = \"doi:\" + doi\n",
    "    querry = {'q': doi_q,'api_key': springer_key}\n",
    "    r = requests.get('http://api.springernature.com/openaccess/jats', params=querry)\n",
    "    jats_root = etree.fromstring(r.content)\n",
    "    body = jats_root.xpath(\"//body//text()\")\n",
    "    text_content = ' '.join(body)\n",
    "    text_list.append([doi,text_content])\n",
    "    time.sleep(8 + random.randint(3, 5))"
   ]
  },
  {
   "cell_type": "code",
   "execution_count": null,
   "id": "17691b54",
   "metadata": {},
   "outputs": [],
   "source": [
    "#Saving Data Frames as CSV\n",
    "df.to_csv(\"data/springer_data_meta.csv\", index=False)\n",
    "pd.DataFrame(text_list).to_csv(\"data/springer_data_text.csv\", index=False)"
   ]
  },
  {
   "cell_type": "code",
   "execution_count": null,
   "id": "44095ed1",
   "metadata": {},
   "outputs": [],
   "source": [
    "#Retrieving First Search Result from Elsevier API\n",
    "n=0\n",
    "payload = {'query': 'posthuman', 'start': n, 'count': '100' ,'apiKey': elsevier_key}\n",
    "r = requests.get('https://api.elsevier.com/content/search/sciencedirect', params=payload)"
   ]
  },
  {
   "cell_type": "code",
   "execution_count": null,
   "id": "6ed4c026",
   "metadata": {},
   "outputs": [],
   "source": [
    "#Processing Search Results into Data Frame\n",
    "data_el = r.json()\n",
    "data_el_df = pd.DataFrame(data_el['search-results']['entry'])"
   ]
  },
  {
   "cell_type": "code",
   "execution_count": null,
   "id": "a565cc84",
   "metadata": {},
   "outputs": [],
   "source": [
    "#Retrieving All Search Results from Elsevier API\n",
    "total_n = int(data_el['search-results']['opensearch:totalResults'])\n",
    "for i in range(math.ceil((total_n-100)/100)):\n",
    "    n+=100\n",
    "    payload = {'query': 'posthuman', 'start': n, 'count': '100' ,'apiKey': elsevier_key}\n",
    "    r = requests.get('https://api.elsevier.com/content/search/sciencedirect', params=payload)\n",
    "    data_el = r.json()\n",
    "    data_el_df = pd.concat([data_el_df, pd.DataFrame(data_el[\"search-results\"]['entry'])], axis=0, ignore_index=True)"
   ]
  },
  {
   "cell_type": "code",
   "execution_count": null,
   "id": "cd578d9a",
   "metadata": {},
   "outputs": [],
   "source": [
    "#Counting Open Access Articles\n",
    "data_el_df.value_counts(\"openaccess\")"
   ]
  },
  {
   "cell_type": "code",
   "execution_count": null,
   "id": "b4bcfa89",
   "metadata": {},
   "outputs": [],
   "source": [
    "#Filtering for Open Access Articles\n",
    "df_elsevier = data_el_df.loc[data_el_df['openaccess'] == True]\n",
    "df_elsevier = df_elsevier.reset_index()"
   ]
  },
  {
   "cell_type": "code",
   "execution_count": null,
   "id": "6ebb2614",
   "metadata": {},
   "outputs": [],
   "source": [
    "#Retrieving Texts of Open Access Articles from Elsevier API\n",
    "doi = []\n",
    "text = []\n",
    "for i in range(len(df_elsevier)):\n",
    "    call = \"https://api.elsevier.com/content/article/pii/\" + df_elsevier[\"pii\"][i]\n",
    "    header = {'Accept': 'application/json'}\n",
    "    payload = {'apiKey': elsevier_key}\n",
    "    r = requests.get(call, params=payload, headers=header)\n",
    "    data_dict = r.json()\n",
    "    doi.append(data_dict['full-text-retrieval-response']['coredata']['prism:doi'])\n",
    "    text.append(data_dict['full-text-retrieval-response']['originalText'])\n",
    "    time.sleep(8 + random.randint(3, 5))"
   ]
  },
  {
   "cell_type": "code",
   "execution_count": null,
   "id": "a22142f4",
   "metadata": {},
   "outputs": [],
   "source": [
    "#Converting Results into Data Frame\n",
    "text_elsevier = pd.DataFrame({'doi':doi, 'full-text':text})"
   ]
  },
  {
   "cell_type": "code",
   "execution_count": null,
   "id": "ba2a860a",
   "metadata": {},
   "outputs": [],
   "source": [
    "#Retriving First Metadata Results from Elsevier API\n",
    "call = \"https://api.elsevier.com/content/article/pii/\" + df_elsevier[\"pii\"][0]\n",
    "header = {'Accept': 'application/json'}\n",
    "payload = {'apiKey': elsevier_key}\n",
    "r = requests.get(call, params=payload, headers=header)"
   ]
  },
  {
   "cell_type": "code",
   "execution_count": null,
   "id": "ffd79d4c",
   "metadata": {},
   "outputs": [],
   "source": [
    "#Processing Result into Data Frame\n",
    "data_el = json.loads(r.content)\n",
    "meta_elsevier = pd.DataFrame.from_dict(data_el['full-text-retrieval-response']['coredata'], orient=\"index\").transpose()"
   ]
  },
  {
   "cell_type": "code",
   "execution_count": null,
   "id": "20bc8fa0",
   "metadata": {},
   "outputs": [],
   "source": [
    "#Retrieving Metadata for Remaining Elsevier Batch\n",
    "for i in range(1, len(df_elsevier)):\n",
    "    call = \"https://api.elsevier.com/content/article/pii/\" + df_elsevier[\"pii\"][i]\n",
    "    header = {'Accept': 'application/json'}\n",
    "    payload = {'apiKey': elsevier_key}\n",
    "    r = requests.get(call, params=payload, headers=header)\n",
    "    data_el = json.loads(r.content)\n",
    "    temp_df = pd.DataFrame.from_dict(data_el['full-text-retrieval-response']['coredata'], orient=\"index\").transpose()\n",
    "    meta_elsevier = pd.concat([meta_elsevier, temp_df], axis=0, ignore_index=True)\n",
    "    time.sleep(5 + random.randint(3, 5))"
   ]
  },
  {
   "cell_type": "code",
   "execution_count": null,
   "id": "9e7dcda9",
   "metadata": {},
   "outputs": [],
   "source": [
    "#Saving Elsevier Data into CSV Files\n",
    "text_elsevier.to_csv(\"data/elsevier_data_text.csv\", index=False)\n",
    "meta_elsevier.to_csv(\"data/elsevier_data_meta.csv\", index=False)"
   ]
  },
  {
   "cell_type": "code",
   "execution_count": null,
   "id": "0d33c087",
   "metadata": {},
   "outputs": [],
   "source": []
  }
 ],
 "metadata": {
  "kernelspec": {
   "display_name": "Python 3 (ipykernel)",
   "language": "python",
   "name": "python3"
  },
  "language_info": {
   "codemirror_mode": {
    "name": "ipython",
    "version": 3
   },
   "file_extension": ".py",
   "mimetype": "text/x-python",
   "name": "python",
   "nbconvert_exporter": "python",
   "pygments_lexer": "ipython3",
   "version": "3.11.2"
  }
 },
 "nbformat": 4,
 "nbformat_minor": 5
}
