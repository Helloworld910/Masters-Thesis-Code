{
 "cells": [
  {
   "cell_type": "code",
   "execution_count": null,
   "id": "d365b0e1",
   "metadata": {},
   "outputs": [],
   "source": [
    "#Importing Libraries\n",
    "import requests\n",
    "from dotenv import load_dotenv\n",
    "import os\n",
    "import pandas as pd\n",
    "import json\n",
    "import random\n",
    "import math\n",
    "import time"
   ]
  },
  {
   "cell_type": "code",
   "execution_count": null,
   "id": "875793ab",
   "metadata": {},
   "outputs": [],
   "source": [
    "#Loading Environment Variables\n",
    "load_dotenv()"
   ]
  },
  {
   "cell_type": "code",
   "execution_count": null,
   "id": "7cea6441",
   "metadata": {},
   "outputs": [],
   "source": [
    "#Loading Required API Keys\n",
    "wos_key = os.getenv('wos_api_key')"
   ]
  },
  {
   "cell_type": "code",
   "execution_count": null,
   "id": "64fc5082",
   "metadata": {},
   "outputs": [],
   "source": [
    "#Upload DOIs\n",
    "dois_df = pd.read_csv('data/merged_df.csv')"
   ]
  },
  {
   "cell_type": "code",
   "execution_count": null,
   "id": "0ce89406",
   "metadata": {},
   "outputs": [],
   "source": [
    "#Assigning Columns for Data Frame of WOS Ids\n",
    "uid_art = []\n",
    "doi_art = []\n",
    "author_art = []\n",
    "journal_art = []"
   ]
  },
  {
   "cell_type": "code",
   "execution_count": null,
   "id": "f84c756c",
   "metadata": {},
   "outputs": [],
   "source": [
    "#Retriving UIDs, Author and Journal Names\n",
    "for n in range(0,len(dois_df)):\n",
    "    doi = \"DO=\"+dois_df[\"doi\"][n]\n",
    "    #Setting Parameters to Retrieve UID\n",
    "    params = {\n",
    "        \"databaseId\": \"WOK\",\n",
    "        \"usrQuery\": doi,\n",
    "        \"count\": 1,\n",
    "        \"firstRecord\": 1\n",
    "    }\n",
    "    header = {\n",
    "        \"X-ApiKey\": wos_key\n",
    "    }\n",
    "    #Making API Call\n",
    "    r = requests.get(\"https://wos-api.clarivate.com/api/wos\",\n",
    "                     params=params,\n",
    "                     headers=header)\n",
    "    doi_response = r.json()\n",
    "    #Logging Response\n",
    "    if(doi_response[\"QueryResult\"][\"RecordsFound\"]==0):\n",
    "        doi_art.append(doi)\n",
    "        uid_art.append(0)\n",
    "        author_art.append(0)\n",
    "        journal_art.append(0)\n",
    "    else:\n",
    "        num_authors = doi_response[\"Data\"][\"Records\"][\"records\"][\"REC\"][0][\"static_data\"][\"summary\"][\"names\"][\"count\"]\n",
    "        if(num_authors>1):\n",
    "            for i in range(0,num_authors):\n",
    "                doi_art.append(doi)\n",
    "                uid_art.append(doi_response[\"Data\"][\"Records\"][\"records\"][\"REC\"][0][\"UID\"])\n",
    "                author_art.append(doi_response[\"Data\"][\"Records\"][\"records\"][\"REC\"][0][\"static_data\"][\"summary\"][\"names\"][\"name\"][i][\"full_name\"])\n",
    "                journal_art.append(doi_response[\"Data\"][\"Records\"][\"records\"][\"REC\"][0][\"static_data\"][\"summary\"][\"titles\"][\"title\"][0][\"content\"])\n",
    "        else:\n",
    "            doi_art.append(doi)\n",
    "            uid_art.append(doi_response[\"Data\"][\"Records\"][\"records\"][\"REC\"][0][\"UID\"])\n",
    "            author_art.append(doi_response[\"Data\"][\"Records\"][\"records\"][\"REC\"][0][\"static_data\"][\"summary\"][\"names\"][\"name\"][\"full_name\"])\n",
    "            journal_art.append(doi_response[\"Data\"][\"Records\"][\"records\"][\"REC\"][0][\"static_data\"][\"summary\"][\"titles\"][\"title\"][0][\"content\"])\n",
    "    time.sleep(3 + random.randint(3, 5))"
   ]
  },
  {
   "cell_type": "code",
   "execution_count": null,
   "id": "a1d5eb1d",
   "metadata": {},
   "outputs": [],
   "source": [
    "#Converting Collected Data to Data Frame\n",
    "df_part_A = pd.DataFrame({\n",
    "    'doi': doi_art,\n",
    "    'wos-uid': uid_art,\n",
    "    'author': author_art,\n",
    "    'journal': journal_art\n",
    "})"
   ]
  },
  {
   "cell_type": "code",
   "execution_count": null,
   "id": "2686d9bc",
   "metadata": {},
   "outputs": [],
   "source": [
    "#Inspecting Data Frame\n",
    "df_part_A"
   ]
  },
  {
   "cell_type": "code",
   "execution_count": null,
   "id": "8f97043f",
   "metadata": {},
   "outputs": [],
   "source": [
    "#Saving Data\n",
    "df_part_A.to_csv(\"data/wos_id_data.csv\", index=False)"
   ]
  },
  {
   "cell_type": "code",
   "execution_count": null,
   "id": "fb4db4de",
   "metadata": {},
   "outputs": [],
   "source": [
    "#Dropping Missing Values\n",
    "filtered_df = df_part_A[df_part_A['wos-uid'] != 0]\n",
    "filtered_df.reset_index()"
   ]
  },
  {
   "cell_type": "code",
   "execution_count": null,
   "id": "32c904d7",
   "metadata": {},
   "outputs": [],
   "source": [
    "#Extracting WOS UIDs\n",
    "uids = filtered_df['wos-uid']"
   ]
  },
  {
   "cell_type": "code",
   "execution_count": null,
   "id": "b47667d8",
   "metadata": {},
   "outputs": [],
   "source": [
    "#Extracting Unique Uids\n",
    "uids = uids.drop_duplicates()\n",
    "uids = uids.reset_index()"
   ]
  },
  {
   "cell_type": "code",
   "execution_count": null,
   "id": "41dac3dd",
   "metadata": {},
   "outputs": [],
   "source": [
    "#Making Collecting Lists\n",
    "total_refs = []\n",
    "references = []"
   ]
  },
  {
   "cell_type": "code",
   "execution_count": null,
   "id": "6b396e4d",
   "metadata": {},
   "outputs": [],
   "source": [
    "#Retrieving References\n",
    "#Creating Outer Loop\n",
    "for n in range(0,len(uids)):\n",
    "    #Setting Querry Parameters and Header for References Retrieval\n",
    "    params = {\n",
    "        \"databaseId\": \"WOK\",\n",
    "        \"uniqueId\": uids['wos-uid'][n],\n",
    "        \"count\": 100,\n",
    "        \"firstRecord\": 1\n",
    "    }\n",
    "    header = {\n",
    "        \"X-ApiKey\": wos_key\n",
    "    }\n",
    "    #Sending Query\n",
    "    r = requests.get(\"https://wos-api.clarivate.com/api/wos/references\",\n",
    "                     params=params,\n",
    "                     headers=header)\n",
    "    ref_response = r.json()\n",
    "    #Collecting Total References\n",
    "    num_ref = ref_response[\"QueryResult\"][\"RecordsFound\"]\n",
    "    total_refs.append(num_ref)\n",
    "    #Retrieving All References\n",
    "    if(num_ref == 0):\n",
    "        references.append((\"NA\", uids['wos-uid'][n]))\n",
    "    if(num_ref>100):\n",
    "        for k in range(0,math.ceil(num_ref/100)):\n",
    "            params = {\n",
    "                \"databaseId\": \"WOK\",\n",
    "                \"uniqueId\": uids['wos-uid'][n],\n",
    "                \"count\": 100,\n",
    "                \"firstRecord\": (100*k) + 1\n",
    "            }\n",
    "            header = {\n",
    "                \"X-ApiKey\": wos_key\n",
    "            }\n",
    "            #Sending Query\n",
    "            r = requests.get(\"https://wos-api.clarivate.com/api/wos/references\",\n",
    "                             params=params,\n",
    "                             headers=header)\n",
    "            ref_response = r.json()\n",
    "            for m in range(0,99):\n",
    "                try:\n",
    "                    references.append((ref_response['Data'][m]['CitedAuthor'], uids['wos-uid'][n]))\n",
    "                except IndexError:\n",
    "                    print(\"Index out of bounds error!\")\n",
    "                    print(\"At n:\", n)\n",
    "                    break\n",
    "                except Exception as e:\n",
    "                    print(\"An error occurred:\", e)\n",
    "                    print(\"At this n:\", n)\n",
    "                time.sleep(1 + random.randint(1, 2))\n",
    "                    \n",
    "    else:\n",
    "        for i in range(0,num_ref):\n",
    "            print(i)\n",
    "            try:\n",
    "                references.append((ref_response['Data'][i]['CitedAuthor'], uids['wos-uid'][n]))\n",
    "            except Exception as e:\n",
    "                print(\"An error occurred:\", e)\n",
    "    time.sleep(1 + random.randint(1, 2))"
   ]
  },
  {
   "cell_type": "code",
   "execution_count": null,
   "id": "81fade55",
   "metadata": {},
   "outputs": [],
   "source": [
    "#Converting to Data Frame\n",
    "df_part_B = pd.DataFrame(references, columns=['cited_author', 'wos-uid'])"
   ]
  },
  {
   "cell_type": "code",
   "execution_count": null,
   "id": "8d4ae1b7",
   "metadata": {},
   "outputs": [],
   "source": [
    "#Merging From and To Author Data\n",
    "merged_df = pd.merge(df_part_B, df_part_A, on='wos-uid', how='left')"
   ]
  },
  {
   "cell_type": "code",
   "execution_count": null,
   "id": "9a08cf50",
   "metadata": {},
   "outputs": [],
   "source": [
    "#Saving Data\n",
    "merged_df.to_csv(\"data/citation_data.csv\", index=False)"
   ]
  }
 ],
 "metadata": {
  "kernelspec": {
   "display_name": "Python 3 (ipykernel)",
   "language": "python",
   "name": "python3"
  },
  "language_info": {
   "codemirror_mode": {
    "name": "ipython",
    "version": 3
   },
   "file_extension": ".py",
   "mimetype": "text/x-python",
   "name": "python",
   "nbconvert_exporter": "python",
   "pygments_lexer": "ipython3",
   "version": "3.11.2"
  }
 },
 "nbformat": 4,
 "nbformat_minor": 5
}
