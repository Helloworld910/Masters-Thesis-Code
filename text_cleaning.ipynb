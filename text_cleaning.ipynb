{
 "cells": [
  {
   "cell_type": "code",
   "execution_count": null,
   "id": "03a55ab3",
   "metadata": {},
   "outputs": [],
   "source": [
    "#Importing Required Libraries\n",
    "import pandas as pd\n",
    "import string"
   ]
  },
  {
   "cell_type": "code",
   "execution_count": null,
   "id": "34816ae1",
   "metadata": {},
   "outputs": [],
   "source": [
    "#Uploading Data\n",
    "df = pd.read_csv('data/merged_df.csv')"
   ]
  },
  {
   "cell_type": "code",
   "execution_count": null,
   "id": "04b5161e",
   "metadata": {},
   "outputs": [],
   "source": [
    "#Inspecting Data\n",
    "df.head()"
   ]
  },
  {
   "cell_type": "code",
   "execution_count": null,
   "id": "fb2ca4d0",
   "metadata": {},
   "outputs": [],
   "source": [
    "#Defining a Text Cleaning Function\n",
    "def clean_text(text):\n",
    "    #Converting Text to Lowercase\n",
    "    text = text.lower()\n",
    "    #Removing Punctuation and Special characters\n",
    "    text = text.translate(str.maketrans('', '', string.punctuation))\n",
    "    #Removing Line Breaks\n",
    "    text = text.replace('\\n', ' ')\n",
    "    return text"
   ]
  },
  {
   "cell_type": "code",
   "execution_count": null,
   "id": "cad6052c",
   "metadata": {},
   "outputs": [],
   "source": [
    "#Cleaning Text in Data Frame\n",
    "df['text_clean'] = df['text'].apply(clean_text)\n",
    "df['title_clean'] = df['title'].apply(clean_text)"
   ]
  },
  {
   "cell_type": "code",
   "execution_count": null,
   "id": "6c95666c",
   "metadata": {},
   "outputs": [],
   "source": [
    "df.head()"
   ]
  },
  {
   "cell_type": "code",
   "execution_count": null,
   "id": "e8bfe8c8",
   "metadata": {},
   "outputs": [],
   "source": [
    "#Saving Data Frame\n",
    "df.to_csv(\"data/text_cleaned_df.csv\", index=False)"
   ]
  },
  {
   "cell_type": "code",
   "execution_count": null,
   "id": "93c7c7ec",
   "metadata": {},
   "outputs": [],
   "source": []
  }
 ],
 "metadata": {
  "kernelspec": {
   "display_name": "Python 3 (ipykernel)",
   "language": "python",
   "name": "python3"
  },
  "language_info": {
   "codemirror_mode": {
    "name": "ipython",
    "version": 3
   },
   "file_extension": ".py",
   "mimetype": "text/x-python",
   "name": "python",
   "nbconvert_exporter": "python",
   "pygments_lexer": "ipython3",
   "version": "3.11.2"
  }
 },
 "nbformat": 4,
 "nbformat_minor": 5
}
