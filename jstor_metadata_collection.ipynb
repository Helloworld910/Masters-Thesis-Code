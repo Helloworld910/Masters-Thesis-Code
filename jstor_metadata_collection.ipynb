{
 "cells": [
  {
   "cell_type": "code",
   "execution_count": null,
   "id": "184d7c2e",
   "metadata": {},
   "outputs": [],
   "source": [
    "#Importing Required Libraries\n",
    "import pandas as pd\n",
    "import json\n",
    "import requests\n",
    "import time\n",
    "import random"
   ]
  },
  {
   "cell_type": "code",
   "execution_count": null,
   "id": "2071a601",
   "metadata": {},
   "outputs": [],
   "source": [
    "#Uploading Jstor Data as a Data Frame\n",
    "file_path = \"data/jstor_data.jsonl\"\n",
    "jstor_df = pd.read_json(file_path, lines=True)"
   ]
  },
  {
   "cell_type": "code",
   "execution_count": null,
   "id": "2a6dac58",
   "metadata": {},
   "outputs": [],
   "source": [
    "#Inspecting Jstor Data Frame\n",
    "jstor_df.value_counts(\"docType\")"
   ]
  },
  {
   "cell_type": "code",
   "execution_count": null,
   "id": "2244fcac",
   "metadata": {},
   "outputs": [],
   "source": [
    "#Inspecting Jstor Data Frame\n",
    "jstor_df.columns"
   ]
  },
  {
   "cell_type": "code",
   "execution_count": null,
   "id": "709d02ce",
   "metadata": {},
   "outputs": [],
   "source": [
    "#Droping NA values for DOI\n",
    "jstor_df = jstor_df.dropna(subset=['doi'])"
   ]
  },
  {
   "cell_type": "code",
   "execution_count": null,
   "id": "9117f478",
   "metadata": {},
   "outputs": [],
   "source": [
    "#Retrieving DOIs for Crossref API Call\n",
    "dois_jstor = jstor_df[\"doi\"].reset_index()"
   ]
  },
  {
   "cell_type": "code",
   "execution_count": null,
   "id": "2264b776",
   "metadata": {},
   "outputs": [],
   "source": [
    "#Setting Header for Crossref API call\n",
    "header = {'User-Agent': 'Shivam Sen(Collecting Data for Masters Thesis; mailto:shivamsen910@gmail.com; Institution: Charles University, Prague)'}"
   ]
  },
  {
   "cell_type": "code",
   "execution_count": null,
   "id": "da6fb890",
   "metadata": {},
   "outputs": [],
   "source": [
    "#Setting URL for Crossref API call\n",
    "url = \"https://api.crossref.org/works/\"+dois_jstor.loc[0,'doi']"
   ]
  },
  {
   "cell_type": "code",
   "execution_count": null,
   "id": "f477644e",
   "metadata": {},
   "outputs": [],
   "source": [
    "#Making First Crossref API Call\n",
    "r = requests.get(url, headers=header)"
   ]
  },
  {
   "cell_type": "code",
   "execution_count": null,
   "id": "c1e6d6af",
   "metadata": {},
   "outputs": [],
   "source": [
    "#Processing Response to Data Frame\n",
    "message = json.loads(r.content)['message']\n",
    "temp_keys = list(message.keys())\n",
    "temp_values = list(message.values())\n",
    "meta_jstor = pd.DataFrame([temp_values], columns=temp_keys)"
   ]
  },
  {
   "cell_type": "code",
   "execution_count": null,
   "id": "43cbffbe",
   "metadata": {},
   "outputs": [],
   "source": [
    "#Making Remaining API Calls for Jstor batch Metadata\n",
    "for i in range(1,len(dois_jstor)):\n",
    "    url = \"https://api.crossref.org/works/\"+dois_jstor.loc[i,'doi']\n",
    "    r = requests.get(url, headers=header)\n",
    "    message = json.loads(r.content)['message']\n",
    "    temp_keys = list(message.keys())\n",
    "    temp_values = list(message.values())\n",
    "    temp_df = pd.DataFrame([temp_values], columns=temp_keys)\n",
    "    meta_jstor = pd.concat([meta_jstor, temp_df], axis=0, join='outer')\n",
    "    time.sleep(3 + random.randint(3, 5))"
   ]
  },
  {
   "cell_type": "code",
   "execution_count": null,
   "id": "19587054",
   "metadata": {},
   "outputs": [],
   "source": [
    "#Saving Jstor Metadata into CSV Files\n",
    "meta_jstor.to_csv(\"data/jstor_metadata.csv\", index=False)"
   ]
  },
  {
   "cell_type": "code",
   "execution_count": null,
   "id": "2f7e51d2",
   "metadata": {},
   "outputs": [],
   "source": []
  }
 ],
 "metadata": {
  "kernelspec": {
   "display_name": "Python 3 (ipykernel)",
   "language": "python",
   "name": "python3"
  },
  "language_info": {
   "codemirror_mode": {
    "name": "ipython",
    "version": 3
   },
   "file_extension": ".py",
   "mimetype": "text/x-python",
   "name": "python",
   "nbconvert_exporter": "python",
   "pygments_lexer": "ipython3",
   "version": "3.11.2"
  }
 },
 "nbformat": 4,
 "nbformat_minor": 5
}
