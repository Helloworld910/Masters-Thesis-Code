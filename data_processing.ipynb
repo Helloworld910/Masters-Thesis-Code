{
 "cells": [
  {
   "cell_type": "code",
   "execution_count": null,
   "id": "a5762063",
   "metadata": {},
   "outputs": [],
   "source": [
    "#Importing Required Libraries\n",
    "import pandas as pd\n",
    "import math\n",
    "from langdetect import detect\n",
    "from docx import Document\n",
    "from docx.shared import Pt\n",
    "from docx.enum.text import WD_ALIGN_PARAGRAPH"
   ]
  },
  {
   "cell_type": "code",
   "execution_count": null,
   "id": "b3f0d259",
   "metadata": {},
   "outputs": [],
   "source": [
    "#Importing Springer Data\n",
    "springer_meta = pd.read_csv(\"data/springer_data_meta.csv\")\n",
    "springer_text = pd.read_csv(\"data/springer_data_text.csv\")"
   ]
  },
  {
   "cell_type": "code",
   "execution_count": null,
   "id": "75954309",
   "metadata": {},
   "outputs": [],
   "source": [
    "#Inspecting the Imported Data Frames\n",
    "len(springer_meta)\n",
    "len(springer_text)"
   ]
  },
  {
   "cell_type": "code",
   "execution_count": null,
   "id": "86d72c93",
   "metadata": {},
   "outputs": [],
   "source": [
    "springer_meta.head()"
   ]
  },
  {
   "cell_type": "code",
   "execution_count": null,
   "id": "57777ae2",
   "metadata": {},
   "outputs": [],
   "source": [
    "springer_text.head()"
   ]
  },
  {
   "cell_type": "code",
   "execution_count": null,
   "id": "bbe26aa5",
   "metadata": {},
   "outputs": [],
   "source": [
    "#Renaming Columns for Springer Text Data Frame\n",
    "springer_text.rename(columns={'0': 'doi', '1': 'text'}, inplace=True)"
   ]
  },
  {
   "cell_type": "code",
   "execution_count": null,
   "id": "f86c0274",
   "metadata": {},
   "outputs": [],
   "source": [
    "springer_text.head()"
   ]
  },
  {
   "cell_type": "code",
   "execution_count": null,
   "id": "a5fefe52",
   "metadata": {},
   "outputs": [],
   "source": [
    "#Joining Springer Text and Meta Data\n",
    "springer_df = pd.merge(springer_meta, springer_text, on='doi')"
   ]
  },
  {
   "cell_type": "code",
   "execution_count": null,
   "id": "1cb26ce4",
   "metadata": {},
   "outputs": [],
   "source": [
    "#Inspecting Joined Data Frame\n",
    "springer_df.head()"
   ]
  },
  {
   "cell_type": "code",
   "execution_count": null,
   "id": "7fde38de",
   "metadata": {},
   "outputs": [],
   "source": [
    "#Listing the Columns of the New Data Frame\n",
    "springer_df.columns"
   ]
  },
  {
   "cell_type": "code",
   "execution_count": null,
   "id": "068b0306",
   "metadata": {},
   "outputs": [],
   "source": [
    "#Importing Elsevier Data as Data Frames\n",
    "elsevier_meta = pd.read_csv(\"data/elsevier_data_meta.csv\")\n",
    "elsevier_text = pd.read_csv(\"data/elsevier_data_text.csv\")"
   ]
  },
  {
   "cell_type": "code",
   "execution_count": null,
   "id": "9d4f2f4f",
   "metadata": {},
   "outputs": [],
   "source": [
    "#Insepcting Elsevier Data\n",
    "elsevier_meta.head()"
   ]
  },
  {
   "cell_type": "code",
   "execution_count": null,
   "id": "9b686e7f",
   "metadata": {},
   "outputs": [],
   "source": [
    "elsevier_meta.columns"
   ]
  },
  {
   "cell_type": "code",
   "execution_count": null,
   "id": "571cdade",
   "metadata": {},
   "outputs": [],
   "source": [
    "elsevier_text.head()"
   ]
  },
  {
   "cell_type": "code",
   "execution_count": null,
   "id": "71ed16ad",
   "metadata": {},
   "outputs": [],
   "source": [
    "#Joining Elsevier Text and Metadata\n",
    "elsevier_df = pd.merge(elsevier_meta, elsevier_text, left_on='prism:doi', right_on='doi', how='left')"
   ]
  },
  {
   "cell_type": "code",
   "execution_count": null,
   "id": "9663f506",
   "metadata": {},
   "outputs": [],
   "source": [
    "#Inspecting Merged Elsevier Data Frame\n",
    "elsevier_df.head()"
   ]
  },
  {
   "cell_type": "code",
   "execution_count": null,
   "id": "ef3e13b5",
   "metadata": {},
   "outputs": [],
   "source": [
    "elsevier_df.columns"
   ]
  },
  {
   "cell_type": "code",
   "execution_count": null,
   "id": "cde4518f",
   "metadata": {},
   "outputs": [],
   "source": [
    "#Dropping the Repeated DOI Column\n",
    "elsevier_df.drop('prism:doi', axis=1, inplace=True)"
   ]
  },
  {
   "cell_type": "code",
   "execution_count": null,
   "id": "8a14ff1b",
   "metadata": {},
   "outputs": [],
   "source": [
    "#Inspecting Resulting Data Frame\n",
    "elsevier_df.head()"
   ]
  },
  {
   "cell_type": "code",
   "execution_count": null,
   "id": "15dd5e61",
   "metadata": {},
   "outputs": [],
   "source": [
    "elsevier_df.columns"
   ]
  },
  {
   "cell_type": "code",
   "execution_count": null,
   "id": "63c02f51",
   "metadata": {},
   "outputs": [],
   "source": [
    "#Uploading Jstor Text Data\n",
    "jstor_text = pd.read_json('data/jstor_data_text.jsonl', lines=True)"
   ]
  },
  {
   "cell_type": "code",
   "execution_count": null,
   "id": "18e4a5d9",
   "metadata": {},
   "outputs": [],
   "source": [
    "#Inspecting Jstor Text Data Frame\n",
    "jstor_text.head()"
   ]
  },
  {
   "cell_type": "code",
   "execution_count": null,
   "id": "68798497",
   "metadata": {},
   "outputs": [],
   "source": [
    "jstor_text.columns"
   ]
  },
  {
   "cell_type": "code",
   "execution_count": null,
   "id": "3d397c28",
   "metadata": {},
   "outputs": [],
   "source": [
    "#Uploading Jstor Metadata\n",
    "jstor_meta = pd.read_csv(\"data/jstor_metadata.csv\")"
   ]
  },
  {
   "cell_type": "code",
   "execution_count": null,
   "id": "3b64582d",
   "metadata": {},
   "outputs": [],
   "source": [
    "#Inspecting Jstor Metadata\n",
    "jstor_meta.head()"
   ]
  },
  {
   "cell_type": "code",
   "execution_count": null,
   "id": "89261b0a",
   "metadata": {},
   "outputs": [],
   "source": [
    "jstor_meta.columns"
   ]
  },
  {
   "cell_type": "code",
   "execution_count": null,
   "id": "beb6fb31",
   "metadata": {},
   "outputs": [],
   "source": [
    "#Joining Jstor Text and Meta Data\n",
    "jstor_df = pd.merge(jstor_meta, jstor_text, left_on='DOI', right_on='doi', how='left')"
   ]
  },
  {
   "cell_type": "code",
   "execution_count": null,
   "id": "1755064a",
   "metadata": {},
   "outputs": [],
   "source": [
    "#Inspecting Jstor Merged Data Frame\n",
    "jstor_df.head()"
   ]
  },
  {
   "cell_type": "code",
   "execution_count": null,
   "id": "21165d61",
   "metadata": {},
   "outputs": [],
   "source": [
    "jstor_df.columns"
   ]
  },
  {
   "cell_type": "code",
   "execution_count": null,
   "id": "728340dc",
   "metadata": {},
   "outputs": [],
   "source": [
    "#Dropping Duplicate DOI Column\n",
    "jstor_df.drop('DOI', axis=1, inplace=True)"
   ]
  },
  {
   "cell_type": "code",
   "execution_count": null,
   "id": "83adf07b",
   "metadata": {},
   "outputs": [],
   "source": [
    "#Inspecting New Jstor Data Frame\n",
    "jstor_df.columns"
   ]
  },
  {
   "cell_type": "code",
   "execution_count": null,
   "id": "a2480f30",
   "metadata": {},
   "outputs": [],
   "source": [
    "#Filtering Springer Data Frame for English Language\n",
    "springer_df = springer_df[springer_df['language'] == 'en']"
   ]
  },
  {
   "cell_type": "code",
   "execution_count": null,
   "id": "d8819c47",
   "metadata": {},
   "outputs": [],
   "source": [
    "#Assigning a Language to Each Observation Through Language Detection on Titles\n",
    "language = []\n",
    "for t in elsevier_df['dc:title']:\n",
    "    lang = detect(t)\n",
    "    language.append(lang)\n",
    "\n",
    "elsevier_df['language'] = language"
   ]
  },
  {
   "cell_type": "code",
   "execution_count": null,
   "id": "37d2fe1e",
   "metadata": {},
   "outputs": [],
   "source": [
    "#Filtering Elsevier Data Frame for English Language\n",
    "elsevier_df = elsevier_df[elsevier_df['language'] == 'en']"
   ]
  },
  {
   "cell_type": "code",
   "execution_count": null,
   "id": "ed424d11",
   "metadata": {},
   "outputs": [],
   "source": [
    "#Filtering Jstor Data Frame for English Language\n",
    "jstor_df = jstor_df[jstor_df['language_x'] == 'en']"
   ]
  },
  {
   "cell_type": "code",
   "execution_count": null,
   "id": "3147b082",
   "metadata": {},
   "outputs": [],
   "source": [
    "#Extracting Doi, Author, Title, Text and Date from Springer Data Frame\n",
    "springer_to_merge = springer_df[['doi','creators','title','text','publicationDate']]"
   ]
  },
  {
   "cell_type": "code",
   "execution_count": null,
   "id": "ac3d5894",
   "metadata": {},
   "outputs": [],
   "source": [
    "#Renaming the Column Names for Consistency\n",
    "springer_to_merge = springer_to_merge.rename(columns={'doi': 'doi', 'creators': 'authors', 'title': 'title', 'text':'text', \"publicationDate\":'date'})"
   ]
  },
  {
   "cell_type": "code",
   "execution_count": null,
   "id": "e51c3e3f",
   "metadata": {},
   "outputs": [],
   "source": [
    "#Extracting Required Columns from Elsevier Data Frame\n",
    "elsevier_to_merge = elsevier_df[['doi','dc:creator','dc:title','full-text','prism:coverDate']]"
   ]
  },
  {
   "cell_type": "code",
   "execution_count": null,
   "id": "9a81da94",
   "metadata": {},
   "outputs": [],
   "source": [
    "#Renaming Columns for Consistency\n",
    "elsevier_to_merge = elsevier_to_merge.rename(columns={'doi': 'doi', 'dc:creator': 'authors', 'dc:title': 'title', 'full-text':'text', \"prism:coverDate\":'date'})"
   ]
  },
  {
   "cell_type": "code",
   "execution_count": null,
   "id": "f32f1e33",
   "metadata": {},
   "outputs": [],
   "source": [
    "#Extracting Relevant Columns from Jstor Data Frame\n",
    "jstor_to_merge = jstor_df[['doi','author','title_x','fullText','datePublished']]"
   ]
  },
  {
   "cell_type": "code",
   "execution_count": null,
   "id": "54efb597",
   "metadata": {},
   "outputs": [],
   "source": [
    "#Renaming Columns for Consistency\n",
    "jstor_to_merge = jstor_to_merge.rename(columns={'doi': 'doi', 'author': 'authors', 'title_x': 'title', 'fullText':'text', \"datePublished\":'date'})"
   ]
  },
  {
   "cell_type": "code",
   "execution_count": null,
   "id": "15c6217e",
   "metadata": {},
   "outputs": [],
   "source": [
    "#Merging All the Data Frames\n",
    "merged_df = pd.concat([springer_to_merge, elsevier_to_merge, jstor_to_merge], axis=0)"
   ]
  },
  {
   "cell_type": "code",
   "execution_count": null,
   "id": "ee94deb3",
   "metadata": {},
   "outputs": [],
   "source": [
    "#Inspecting Merged Data Frame\n",
    "len(merged_df)"
   ]
  },
  {
   "cell_type": "code",
   "execution_count": null,
   "id": "889bb135",
   "metadata": {},
   "outputs": [],
   "source": [
    "#Checking for Duplicates\n",
    "duplicates = merged_df.duplicated(subset=['doi'])\n",
    "duplicates.value_counts()"
   ]
  },
  {
   "cell_type": "code",
   "execution_count": null,
   "id": "fae89bcd",
   "metadata": {},
   "outputs": [],
   "source": [
    "#Dropping Duplicates\n",
    "merged_df = merged_df.drop_duplicates(subset=['doi'])"
   ]
  },
  {
   "cell_type": "code",
   "execution_count": null,
   "id": "e933dc2a",
   "metadata": {},
   "outputs": [],
   "source": [
    "#Dropping Any Missing Values\n",
    "merged_df.dropna(inplace=True)"
   ]
  },
  {
   "cell_type": "code",
   "execution_count": null,
   "id": "d60bee65",
   "metadata": {},
   "outputs": [],
   "source": [
    "#Saving the Merged Data Frame to a CSV File\n",
    "merged_df.to_csv(\"data/merged_df.csv\", index=False)"
   ]
  },
  {
   "cell_type": "code",
   "execution_count": null,
   "id": "b6cc6eda",
   "metadata": {},
   "outputs": [],
   "source": [
    "######################################\n",
    "#Making a Word Document for the Data##\n",
    "######################################\n",
    "\n",
    "\n",
    "#Create a new Word document\n",
    "document = Document()\n",
    "\n",
    "#Set font size and alignment for all paragraphs\n",
    "style = document.styles['Normal']\n",
    "font = style.font\n",
    "font.size = Pt(12)\n",
    "document.add_paragraph().add_run().add_break()\n",
    "\n",
    "#Iterate over each row in the DataFrame and add the values to the document\n",
    "for _, row in merged_df.iterrows():\n",
    "    document.add_page_break()\n",
    "    document.add_paragraph(str(row['date']))\n",
    "    document.add_paragraph(str(row['doi']))\n",
    "    document.add_paragraph(str(row['authors']))\n",
    "    document.add_paragraph(str(row['title']))\n",
    "    document.add_paragraph(str(row['text']))\n",
    "    document.add_paragraph('\\n\\n')\n",
    "\n",
    "#Save the document\n",
    "document.save('data/posthuman_data.docx')"
   ]
  },
  {
   "cell_type": "code",
   "execution_count": null,
   "id": "036a473f",
   "metadata": {},
   "outputs": [],
   "source": []
  }
 ],
 "metadata": {
  "kernelspec": {
   "display_name": "Python 3 (ipykernel)",
   "language": "python",
   "name": "python3"
  },
  "language_info": {
   "codemirror_mode": {
    "name": "ipython",
    "version": 3
   },
   "file_extension": ".py",
   "mimetype": "text/x-python",
   "name": "python",
   "nbconvert_exporter": "python",
   "pygments_lexer": "ipython3",
   "version": "3.11.2"
  }
 },
 "nbformat": 4,
 "nbformat_minor": 5
}
